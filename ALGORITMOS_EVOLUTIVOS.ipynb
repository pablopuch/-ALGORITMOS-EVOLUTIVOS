{
  "nbformat": 4,
  "nbformat_minor": 0,
  "metadata": {
    "colab": {
      "provenance": [],
      "authorship_tag": "ABX9TyMXDdnvYJPIVxNT+3TGTIxd",
      "include_colab_link": true
    },
    "kernelspec": {
      "name": "python3",
      "display_name": "Python 3"
    },
    "language_info": {
      "name": "python"
    }
  },
  "cells": [
    {
      "cell_type": "markdown",
      "metadata": {
        "id": "view-in-github",
        "colab_type": "text"
      },
      "source": [
        "<a href=\"https://colab.research.google.com/github/pablopuch/-ALGORITMOS-EVOLUTIVOS/blob/main/ALGORITMOS_EVOLUTIVOS.ipynb\" target=\"_parent\"><img src=\"https://colab.research.google.com/assets/colab-badge.svg\" alt=\"Open In Colab\"/></a>"
      ]
    },
    {
      "cell_type": "code",
      "execution_count": null,
      "metadata": {
        "id": "ol9srMPPg9ip"
      },
      "outputs": [],
      "source": [
        "import math\n",
        "import random\n",
        "import numpy as np\n",
        "import matplotlib.pyplot as plt"
      ]
    },
    {
      "cell_type": "markdown",
      "source": [
        "![image.png](data:image/png;base64,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)"
      ],
      "metadata": {
        "id": "N_HTCLxCmlZ6"
      }
    },
    {
      "cell_type": "code",
      "source": [
        "def ajuste(cromosoma):\n",
        "    distancia_total = 0\n",
        "    for i in range(len(cromosoma)-1):\n",
        "        distancia_total += distancias_ciudades[cromosoma[i]][cromosoma[i+1]]\n",
        "    return distancia_total"
      ],
      "metadata": {
        "id": "VgNQ78MBm054"
      },
      "execution_count": null,
      "outputs": []
    },
    {
      "cell_type": "code",
      "source": [
        "def mutacion(cromosoma):\n",
        "    ciudad1 = random.randint(1, len(cromosoma)-1)\n",
        "    ciudad2 = random.randint(1, len(cromosoma)-1)\n",
        "    cromosoma[ciudad1], cromosoma[ciudad2] = cromosoma[ciudad2], cromosoma[ciudad1]\n",
        "    return cromosoma"
      ],
      "metadata": {
        "id": "sez2FKw0oqCf"
      },
      "execution_count": null,
      "outputs": []
    },
    {
      "cell_type": "code",
      "source": [
        "def recombinacion(cromosoma1, cromosoma2):\n",
        "    # Seleccionar dos puntos de corte aleatorios diferentes\n",
        "    punto_corte1 = random.randint(1, len(cromosoma1)-1)\n",
        "    punto_corte2 = random.randint(1, len(cromosoma1)-1)\n",
        "    while punto_corte1 == punto_corte2:\n",
        "        punto_corte2 = random.randint(1, len(cromosoma1)-1)\n",
        "\n",
        "    # Ordenar los puntos de corte\n",
        "    if punto_corte1 > punto_corte2:\n",
        "        punto_corte1, punto_corte2 = punto_corte2, punto_corte1\n",
        "\n",
        "    # Intercambiar los segmentos entre los puntos de corte para crear dos nuevos cromosomas\n",
        "    nuevo_cromosoma1 = cromosoma1[:punto_corte1] + cromosoma2[punto_corte1:punto_corte2] + cromosoma1[punto_corte2:]\n",
        "    nuevo_cromosoma2 = cromosoma2[:punto_corte1] + cromosoma1[punto_corte1:punto_corte2] + cromosoma2[punto_corte2:]\n",
        "\n",
        "    return nuevo_cromosoma1, nuevo_cromosoma2"
      ],
      "metadata": {
        "id": "B8mKx2CzwYa4"
      },
      "execution_count": null,
      "outputs": []
    },
    {
      "cell_type": "code",
      "source": [
        "def mejor_ruta(poblacion_inicial, prob_mutacion, prob_recombinacion, generaciones):\n",
        "    poblacion = poblacion_inicial\n",
        "    print(\"Poblacion:\",poblacion)\n",
        "\n",
        "    for i in range(generaciones):\n",
        "        ajuste_poblacion = [ajuste(cromosoma) for cromosoma in poblacion]\n",
        "        mejores_cromosomas = [poblacion[i] for i in range(len(poblacion)) if ajuste_poblacion[i] <= min(ajuste_poblacion)]\n",
        "\n",
        "        for cromosoma in mejores_cromosomas:\n",
        "            if random.random() < prob_mutacion:\n",
        "                cromosoma = mutacion(cromosoma)\n",
        "            if random.random() < prob_recombinacion:\n",
        "                cromosoma = recombinacion(cromosoma, random.choice(mejores_cromosomas))\n",
        "\n",
        "        poblacion = mejores_cromosomas\n",
        "\n",
        "    # Devolvemos el mejor cromosoma encontrado\n",
        "    return min(poblacion, key=ajuste)"
      ],
      "metadata": {
        "id": "vBjkWKI2tWNT"
      },
      "execution_count": null,
      "outputs": []
    },
    {
      "cell_type": "markdown",
      "source": [
        "Parámetros iniciales"
      ],
      "metadata": {
        "id": "_s89o9e00ZSR"
      }
    },
    {
      "cell_type": "code",
      "source": [
        "distancias_ciudades = np.array([\n",
        "    [0.0, 16.8, 27.1, 22.4, 52.4],\n",
        "    [16.8, 0.0, 10.5, 6.3, 28.2],\n",
        "    [27.1, 10.5, 0.0, 14.4, 20.4],\n",
        "    [22.4, 6.3, 14.4, 0.0, 26.6],\n",
        "    [52.4, 28.2, 20.4, 26.6, 0.0]\n",
        "])\n",
        "\n",
        "poblacion_inicial = [np.random.permutation([0, 1, 2, 3, 4]) for i in range(5)] # genera un conjunto de 5 ciudades\n",
        "prob_recombinacion = 0.7 \n",
        "prob_mutacion = 0.5 \n",
        "generaciones = 100 \n",
        "\n",
        "mejor_ruta = mejor_ruta(poblacion_inicial, prob_mutacion, prob_recombinacion, generaciones)\n",
        "print(\"La mejor ruta es \", mejor_ruta,\"con Valor de Ajuste =\", ajuste(mejor_ruta))"
      ],
      "metadata": {
        "colab": {
          "base_uri": "https://localhost:8080/"
        },
        "id": "6z0hVN3D0eIw",
        "outputId": "5c7eb05b-a354-4dd4-eab3-584732708585"
      },
      "execution_count": null,
      "outputs": [
        {
          "output_type": "stream",
          "name": "stdout",
          "text": [
            "Poblacion: [array([0, 2, 4, 1, 3]), array([2, 0, 4, 3, 1]), array([2, 3, 4, 0, 1]), array([0, 2, 3, 1, 4]), array([3, 1, 4, 0, 2])]\n",
            "La mejor ruta es  [0 4 1 2 3] con Valor de Ajuste = 105.5\n"
          ]
        }
      ]
    }
  ]
}